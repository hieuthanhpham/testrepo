{
 "cells": [
  {
   "cell_type": "markdown",
   "metadata": {
    "tags": []
   },
   "source": [
    "<center>\n",
    "    <img src=\"https://cf-courses-data.s3.us.cloud-object-storage.appdomain.cloud/IBMDeveloperSkillsNetwork-DS0105EN-SkillsNetwork/labs/Module2/images/SN_web_lightmode.png\" width=\"300\" alt=\"cognitiveclass.ai logo\">\n",
    "</center>\n"
   ]
  },
  {
   "cell_type": "markdown",
   "metadata": {},
   "source": [
    "#### Add your code below following the instructions given in the course"
   ]
  },
  {
   "cell_type": "markdown",
   "metadata": {},
   "source": [
    "# Data Science Tools and Ecosystem"
   ]
  },
  {
   "cell_type": "markdown",
   "metadata": {},
   "source": [
    "In this notebook, Data Science Tools and Ecosystem are summarized."
   ]
  },
  {
   "cell_type": "markdown",
   "metadata": {},
   "source": [
    "Some of the popular languages that Data Scientists use are:\n",
    "* 1. Python\n",
    "* 2. R\n",
    "* 3. JavaScript"
   ]
  },
  {
   "cell_type": "markdown",
   "metadata": {},
   "source": [
    "Some of the commonly used libraries used by Data Scientists include:\n",
    "* 1. **pandas** - Used for data manipulation and analysis in Python.\n",
    "* 2. **NumPy** - Provides support for large, multi-dimensional arrays and matrices, along with mathematical functions.\n",
    "* 3. **matplotlib** - A plotting library used for creating static, animated, and interactive visualizations in Python."
   ]
  },
  {
   "cell_type": "markdown",
   "metadata": {},
   "source": [
    "|Data Science Tools |\n",
    "|------------------ |\n",
    "|Jupyter Notebooks  |\n",
    "|RStudio            |\n",
    "|Apache Zeppelin    |"
   ]
  },
  {
   "cell_type": "markdown",
   "metadata": {},
   "source": [
    "Below are a few examples of evaluating arithmetic expressions in Python.\n",
    "\n",
    "### Addition\n",
    "result_add = 5 + 3\n",
    "print(\"5 + 3 =\", result_add)\n",
    "\n",
    "### Subtraction\n",
    "result_subtract = 10 - 4\n",
    "print(\"10 - 4 =\", result_subtract)\n",
    "\n",
    "### Multiplication\n",
    "result_multiply = 7 * 6\n",
    "print(\"7 * 6 =\", result_multiply)\n",
    "\n",
    "### Division\n",
    "result_divide = 20 / 5\n",
    "print(\"20 / 5 =\", result_divide)\n",
    "\n",
    "### Exponentiation\n",
    "result_exponent = 2 ** 3\n",
    "print(\"2 ** 3 =\", result_exponent)\n",
    "\n",
    "### Modulus (remainder of division)\n",
    "result_modulus = 10 % 3\n",
    "print(\"10 % 3 =\", result_modulus)\n",
    "\n",
    "### Integer Division\n",
    "result_int_divide = 20 // 3\n",
    "print(\"20 // 3 =\", result_int_divide)"
   ]
  },
  {
   "cell_type": "markdown",
   "metadata": {
    "tags": []
   },
   "source": [
    "This a simple arithmetic expression to multiply then add integers (3*4)+5.\n",
    "\n",
    "(3 * 4) + 5"
   ]
  },
  {
   "cell_type": "markdown",
   "metadata": {},
   "source": [
    " This will convert 200 minutes to hours by diving by 60.\n",
    "    \n",
    "200 / 60\n"
   ]
  },
  {
   "cell_type": "markdown",
   "metadata": {},
   "source": [
    "**Objectives:**\n",
    "* Some of the popular languages that Data Scientists use\n",
    "* Some of the commonly used libraries used by Data Scientists\n",
    "* Few examples of evaluating arithmetic expressions in Python"
   ]
  },
  {
   "cell_type": "markdown",
   "metadata": {},
   "source": [
    "## Author\n",
    "Hieu Pham\n"
   ]
  },
  {
   "cell_type": "code",
   "execution_count": null,
   "metadata": {},
   "outputs": [],
   "source": []
  }
 ],
 "metadata": {
  "kernelspec": {
   "display_name": "Python",
   "language": "python",
   "name": "conda-env-python-py"
  },
  "language_info": {
   "codemirror_mode": {
    "name": "ipython",
    "version": 3
   },
   "file_extension": ".py",
   "mimetype": "text/x-python",
   "name": "python",
   "nbconvert_exporter": "python",
   "pygments_lexer": "ipython3",
   "version": "3.7.12"
  }
 },
 "nbformat": 4,
 "nbformat_minor": 4
}
